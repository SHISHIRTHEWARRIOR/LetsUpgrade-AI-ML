{
 "cells": [
  {
   "cell_type": "markdown",
   "metadata": {},
   "source": [
    "Question 1:\n",
    "Assuming that we have some email addresses in the \"username@companyname.com\" format, please write program\n",
    "to print the company name of a given email address. Both user names and company names are composed of letters\n",
    "only.\n"
   ]
  },
  {
   "cell_type": "code",
   "execution_count": 1,
   "metadata": {},
   "outputs": [
    {
     "name": "stdout",
     "output_type": "stream",
     "text": [
      "Shishirthewarrior@gmail.com\n",
      "gmail\n"
     ]
    }
   ],
   "source": [
    "print(input().split(\"@\")[1].split(\".\")[0])"
   ]
  },
  {
   "cell_type": "markdown",
   "metadata": {},
   "source": [
    "Write a program that accepts a comma-separated sequence of words as input and prints the words in a comma\n",
    "separated sequence after sorting them alphabetically.\n",
    "Input Format:\n",
    "The first line of input contains words separated by the comma.\n",
    "Output Format:\n",
    "Print the sorted words separated by the comma.\n",
    "Example:\n",
    "Input:\n",
    "without,hello,bag,world\n",
    "Output:\n",
    "bag,hello,without,world\n"
   ]
  },
  {
   "cell_type": "code",
   "execution_count": 2,
   "metadata": {},
   "outputs": [
    {
     "name": "stdout",
     "output_type": "stream",
     "text": [
      "without,hello,bag,world\n",
      "bag,hello,without,world\n"
     ]
    }
   ],
   "source": [
    "a=input()\n",
    "a=a.split(\",\")\n",
    "a=sorted(a)\n",
    "print(\",\".join(a))"
   ]
  },
  {
   "cell_type": "markdown",
   "metadata": {},
   "source": [
    "Question 3:\n",
    "Create your own Jupyter Notebook for Sets.\n",
    "Reference link: https://www.w3schools.com/python/python_sets.asp"
   ]
  },
  {
   "cell_type": "code",
   "execution_count": 12,
   "metadata": {},
   "outputs": [
    {
     "name": "stdout",
     "output_type": "stream",
     "text": [
      "{'us', 'uk', 'india'}\n",
      "True\n",
      "{'us', 'australia', 'uk', 'india'}\n",
      "{'us', 'ireland', 'australia', 'india', 'indonesia', 'europe', 'uk'}\n",
      "7\n",
      "{'us', 'ireland', 'australia', 'india', 'indonesia', 'europe'}\n",
      "6\n",
      "{'ireland', 'australia', 'india', 'indonesia', 'europe'}\n"
     ]
    }
   ],
   "source": [
    "thisset={\"india\",\"us\",\"uk\"}\n",
    "print(thisset)\n",
    "print(\"india\" in  thisset)\n",
    "thisset.add(\"australia\")\n",
    "print(thisset)\n",
    "thisset.update([\"ireland\",\"indonesia\",\"europe\"])\n",
    "print(thisset)\n",
    "print(len(thisset))\n",
    "thisset.discard(\"uk\")\n",
    "print(thisset)\n",
    "print(len(thisset))\n",
    "x=thisset.pop()\n",
    "print(thisset)"
   ]
  },
  {
   "cell_type": "markdown",
   "metadata": {},
   "source": [
    "Question 4:\n",
    "Given a list of n-1 numbers ranging from 1 to n, your task is to find the missing number. There are no duplicates.\n",
    "Input Format:\n",
    "The first line contains n-1 numbers with each number separated by a space.\n",
    "Output Format:\n",
    "Print the missing number\n",
    "Example:\n",
    "Input:1 2 4 6 3 7 8\n",
    "Output:5\n",
    "Explanation:\n",
    "In the above list of numbers 5 is missing and hence 5 is the input\n"
   ]
  },
  {
   "cell_type": "code",
   "execution_count": 15,
   "metadata": {},
   "outputs": [
    {
     "name": "stdout",
     "output_type": "stream",
     "text": [
      "5.0\n"
     ]
    }
   ],
   "source": [
    "def Missingvalue(x):\n",
    "    a=len(x)\n",
    "    final=(a+1)*(a+2)/2\n",
    "    sum_x=sum(x)\n",
    "    return final -sum_x\n",
    "x=[1,2,4,3,7,8,6]\n",
    "leftout=Missingvalue(x)\n",
    "print(leftout)"
   ]
  },
  {
   "cell_type": "markdown",
   "metadata": {},
   "source": [
    "Question 5:\n",
    "With a given list L, write a program to print this list L after removing all duplicate values with original order reserved.\n",
    "Example:\n",
    "If the input list is\n",
    "12 24 35 24 88 120 155 88 120 155\n",
    "Then the output should be\n",
    "12 24 35 88 120 155\n"
   ]
  },
  {
   "cell_type": "code",
   "execution_count": 29,
   "metadata": {},
   "outputs": [
    {
     "name": "stdout",
     "output_type": "stream",
     "text": [
      "Initial Listis  :[12, 24, 35, 24, 88, 120, 155, 88, 120, 155]\n",
      "Final list without duplicates  is :[12, 24, 35, 88, 120, 155]\n"
     ]
    }
   ],
   "source": [
    "list=[12,24,35,24,88,120,155,88,120,155]\n",
    "print(\"Initial Listis  :\" + str(list))\n",
    "\n",
    "reservedlist=[]\n",
    "for i  in list:\n",
    "    if  i  not in reservedlist:\n",
    "        reservedlist.append(i)\n",
    "\n",
    "\n",
    "print(\"Final list without duplicates  is :\"+ str (reservedlist))\n",
    "\n"
   ]
  },
  {
   "cell_type": "code",
   "execution_count": null,
   "metadata": {},
   "outputs": [],
   "source": []
  }
 ],
 "metadata": {
  "kernelspec": {
   "display_name": "Python 3",
   "language": "python",
   "name": "python3"
  },
  "language_info": {
   "codemirror_mode": {
    "name": "ipython",
    "version": 3
   },
   "file_extension": ".py",
   "mimetype": "text/x-python",
   "name": "python",
   "nbconvert_exporter": "python",
   "pygments_lexer": "ipython3",
   "version": "3.7.6"
  }
 },
 "nbformat": 4,
 "nbformat_minor": 4
}
