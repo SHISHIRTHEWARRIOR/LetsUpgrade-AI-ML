{
 "cells": [
  {
   "cell_type": "markdown",
   "metadata": {},
   "source": [
    "Question 1 :\n",
    "Write a Python program to find the first 20 non-even prime natural numbers."
   ]
  },
  {
   "cell_type": "code",
   "execution_count": 14,
   "metadata": {},
   "outputs": [
    {
     "name": "stdout",
     "output_type": "stream",
     "text": [
      "Will try later\n"
     ]
    }
   ],
   "source": [
    "print(\"Will try later\")"
   ]
  },
  {
   "cell_type": "markdown",
   "metadata": {},
   "source": [
    "Question 2 :\n",
    "Write a Python program to implement 15 functions of string."
   ]
  },
  {
   "cell_type": "code",
   "execution_count": 39,
   "metadata": {},
   "outputs": [
    {
     "name": "stdout",
     "output_type": "stream",
     "text": [
      "Hi shishir,how are you shishir doing\n",
      "                      hi shishir,how are you shishir doing                      \n",
      "2\n",
      "3\n",
      "3\n",
      "False\n",
      "True\n",
      "False\n",
      "hi shishir,how are you shishir doing               he is  my good friend\n",
      "hi shishir,how are you shishir doing\n",
      "hi bahubali,how are you bahubali doing\n",
      "['hi', 'shishir,how', 'are', 'you', 'shishir', 'doing']\n",
      "HI SHISHIR,HOW ARE YOU SHISHIR DOING\n",
      "HI SHISHIR,HOW ARE YOU SHISHIR DOING\n"
     ]
    }
   ],
   "source": [
    "txt = \"hi shishir,how are you shishir doing\"\n",
    "x = txt.capitalize()\n",
    "print(x)\n",
    "y = txt.center(80)\n",
    "print(y)\n",
    "a = txt.count(\"shishir\")\n",
    "print(a)\n",
    "b = txt.find(\"shishir\")\n",
    "print(b)\n",
    "c = txt.index(\"shishir\")\n",
    "print(c)\n",
    "d = txt.isdigit()\n",
    "print(d)\n",
    "e=txt.islower()\n",
    "print(e)\n",
    "f= txt.isnumeric()\n",
    "print(f)\n",
    "g= txt.ljust(50)\n",
    "print(g,\"he is  my good friend\")\n",
    "h=txt.lower()\n",
    "print(h)\n",
    "i = txt.replace(\"shishir\", \"bahubali\")\n",
    "print(i)\n",
    "j=txt.split()\n",
    "print(j)\n",
    "k=txt.swapcase()\n",
    "print(k)\n",
    "l= txt.upper()\n",
    "print(l)"
   ]
  },
  {
   "cell_type": "markdown",
   "metadata": {},
   "source": [
    "Question 3:\n",
    "Write a Python program to check if the given string is a Palindrome or Anagram or None of them.\n",
    "Display the message accordingly to the user."
   ]
  },
  {
   "cell_type": "code",
   "execution_count": 15,
   "metadata": {},
   "outputs": [
    {
     "name": "stdout",
     "output_type": "stream",
     "text": [
      "Enter String to Check  : malayalam\n",
      "Entered String is a palindrome\n"
     ]
    }
   ],
   "source": [
    "x=input(\"Enter String to Check  : \")\n",
    "if (x==x[::-1]):\n",
    " print(\"Entered String is a palindrome\") \n",
    "else :\n",
    " print(\"Its not palidrome\")\n"
   ]
  },
  {
   "cell_type": "code",
   "execution_count": 20,
   "metadata": {},
   "outputs": [
    {
     "name": "stdout",
     "output_type": "stream",
     "text": [
      "String is Anagram\n"
     ]
    }
   ],
   "source": [
    "def check(st1,st2):\n",
    "    \n",
    "    #Check for sorting of string using inbuilt func\n",
    "    if(sorted(st1) == sorted(st2)):\n",
    "       print(\"String is Anagram\")\n",
    "    else:\n",
    "       print(\"Not Anagram\")\n",
    "st1=\"listen\"\n",
    "st2=\"silent\"\n",
    "check(st1,st2)"
   ]
  },
  {
   "cell_type": "markdown",
   "metadata": {},
   "source": [
    "Question 4:\n",
    "Write a Python's user defined function that removes all the additional characters from the string\n",
    "and converts it finally to lower case using built-in lower(). eg: If the string is \"Dr. Darshan Ingle\n",
    "@AI-ML Trainer\", then the output be \"drdarshaningleaimltrainer\"."
   ]
  },
  {
   "cell_type": "code",
   "execution_count": 40,
   "metadata": {},
   "outputs": [
    {
     "name": "stdout",
     "output_type": "stream",
     "text": [
      "Will try later\n"
     ]
    }
   ],
   "source": [
    "print(\"Will try later\")"
   ]
  },
  {
   "cell_type": "code",
   "execution_count": null,
   "metadata": {},
   "outputs": [],
   "source": []
  }
 ],
 "metadata": {
  "kernelspec": {
   "display_name": "Python 3",
   "language": "python",
   "name": "python3"
  },
  "language_info": {
   "codemirror_mode": {
    "name": "ipython",
    "version": 3
   },
   "file_extension": ".py",
   "mimetype": "text/x-python",
   "name": "python",
   "nbconvert_exporter": "python",
   "pygments_lexer": "ipython3",
   "version": "3.7.6"
  }
 },
 "nbformat": 4,
 "nbformat_minor": 4
}
