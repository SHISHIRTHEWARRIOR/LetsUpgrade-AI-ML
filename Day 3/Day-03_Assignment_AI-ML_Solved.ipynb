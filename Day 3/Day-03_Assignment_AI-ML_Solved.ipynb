{
 "cells": [
  {
   "cell_type": "code",
   "execution_count": 1,
   "metadata": {},
   "outputs": [
    {
     "data": {
      "text/plain": [
       "'C:\\\\Users\\\\shish\\\\OneDrive\\\\Desktop\\\\AI_ML\\\\Day 03  Python Basics & Python Data Structures'"
      ]
     },
     "execution_count": 1,
     "metadata": {},
     "output_type": "execute_result"
    }
   ],
   "source": [
    "import os\n",
    "os.getcwd()"
   ]
  },
  {
   "cell_type": "markdown",
   "metadata": {},
   "source": [
    "Question 1 :\n",
    "Write a program to subtract two complex numbers in Python.\n",
    "Answer"
   ]
  },
  {
   "cell_type": "code",
   "execution_count": 3,
   "metadata": {},
   "outputs": [
    {
     "name": "stdout",
     "output_type": "stream",
     "text": [
      "(7+11j)\n"
     ]
    }
   ],
   "source": [
    "a=5+6j\n",
    "b=2+5j\n",
    "sum =a+b\n",
    "print(sum)"
   ]
  },
  {
   "cell_type": "markdown",
   "metadata": {},
   "source": [
    "Question 2 :\n",
    "Write a program to find the fourth root of a number.\n",
    "Answer"
   ]
  },
  {
   "cell_type": "code",
   "execution_count": 12,
   "metadata": {},
   "outputs": [
    {
     "name": "stdout",
     "output_type": "stream",
     "text": [
      "10000\n",
      "10.0\n"
     ]
    }
   ],
   "source": [
    "#Fourth Root= 3*3*3*3= 81 and Fourth root of  81 is 3\n",
    "x= int (input())\n",
    "#x=81\n",
    "y=x**.25\n",
    "print(y)"
   ]
  },
  {
   "cell_type": "markdown",
   "metadata": {},
   "source": [
    "Question 3:\n",
    "Write a program to swap two numbers in Python with the help of a temporary variable."
   ]
  },
  {
   "cell_type": "code",
   "execution_count": 63,
   "metadata": {},
   "outputs": [
    {
     "name": "stdout",
     "output_type": "stream",
     "text": [
      "20\n",
      "10\n"
     ]
    }
   ],
   "source": [
    "x=10\n",
    "y=20\n",
    "#Swapping 3rd variable with 3rd variable\n",
    "temp=x\n",
    "x=y\n",
    "y=temp\n",
    "print(x)\n",
    "print(y)"
   ]
  },
  {
   "cell_type": "markdown",
   "metadata": {},
   "source": [
    "Question 4:\n",
    "Write a program to swap two numbers in Python without using a temporary variable."
   ]
  },
  {
   "cell_type": "code",
   "execution_count": 52,
   "metadata": {},
   "outputs": [
    {
     "name": "stdout",
     "output_type": "stream",
     "text": [
      "Value of a  : 20\n",
      "value of b  : 10\n"
     ]
    }
   ],
   "source": [
    "a=10\n",
    "b=20\n",
    "#Swapping 3rd variable without 3rd variable using comma\n",
    "a,b=b,a\n",
    "print(\"Value of a  :\",a)\n",
    "print(\"value of b  :\",b)"
   ]
  },
  {
   "cell_type": "markdown",
   "metadata": {},
   "source": [
    "Question 5:\n",
    "Write a program to convert fahrenheit to kelvin and celsius both."
   ]
  },
  {
   "cell_type": "code",
   "execution_count": 72,
   "metadata": {},
   "outputs": [
    {
     "name": "stdout",
     "output_type": "stream",
     "text": [
      "100\n",
      "100\n",
      "Temperatur is 37.77777777777778\n",
      "Temperature is 311.27777777777777\n"
     ]
    }
   ],
   "source": [
    "#K = 273.5 + ((F - 32.0) * (5.0/9.0))\n",
    "#Celsius = (Fahrenheit – 32) * 5/9\n",
    "Fahrenheit=int(input())\n",
    "Celsius=(Fahrenheit-32) * 5/9\n",
    "print(Fahrenheit)\n",
    "print(\"Temperatur is\",Celsius)\n",
    "Kelvin = 273.5 + ((Fahrenheit - 32.0) * (5.0/9.0))\n",
    "print(\"Temperature is\",Kelvin)"
   ]
  },
  {
   "cell_type": "markdown",
   "metadata": {},
   "source": [
    "Question 6:\n",
    "Write a program to demonstrate all the available data types in Python. Hint: Use type() function."
   ]
  },
  {
   "cell_type": "code",
   "execution_count": 87,
   "metadata": {},
   "outputs": [
    {
     "name": "stdout",
     "output_type": "stream",
     "text": [
      "<class 'int'>\n",
      "<class 'float'>\n",
      "<class 'str'>\n",
      "<class 'tuple'>\n"
     ]
    }
   ],
   "source": [
    "a=10\n",
    "b=20.5\n",
    "c=\"Shishir\"\n",
    "l=('a','1','2','Shishir')\n",
    "\n",
    "x=type(a)\n",
    "y=type(b)\n",
    "z=type(c)\n",
    "w=type(l)\n",
    "\n",
    "print(x)\n",
    "print(y)\n",
    "print(z)\n",
    "print(w)\n"
   ]
  },
  {
   "cell_type": "markdown",
   "metadata": {},
   "source": [
    "Question 7:\n",
    "Create a Markdown cell in jupyter and list the steps discussed in the session by Dr. Darshan\n",
    "Ingle sir to create Github profile and upload Githubs Assignment link.\n"
   ]
  },
  {
   "cell_type": "markdown",
   "metadata": {},
   "source": [
    "Sir Said to Create Login on Github(if youdont have).\n",
    "then Create a repsository with name as LetsUpgrade-AI-ML\n",
    "then save file as ipynb\n",
    "drag and drop after creating a folder with Dayname(ex: Day 3) \n"
   ]
  }
 ],
 "metadata": {
  "kernelspec": {
   "display_name": "Python 3",
   "language": "python",
   "name": "python3"
  },
  "language_info": {
   "codemirror_mode": {
    "name": "ipython",
    "version": 3
   },
   "file_extension": ".py",
   "mimetype": "text/x-python",
   "name": "python",
   "nbconvert_exporter": "python",
   "pygments_lexer": "ipython3",
   "version": "3.7.6"
  }
 },
 "nbformat": 4,
 "nbformat_minor": 4
}
